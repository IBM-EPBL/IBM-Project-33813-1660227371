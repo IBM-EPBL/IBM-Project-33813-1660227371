{
  "nbformat": 4,
  "nbformat_minor": 0,
  "metadata": {
    "colab": {
      "provenance": [],
      "collapsed_sections": []
    },
    "kernelspec": {
      "name": "python3",
      "display_name": "Python 3"
    },
    "language_info": {
      "name": "python"
    }
  },
  "cells": [
    {
      "cell_type": "code",
      "execution_count": 2,
      "metadata": {
        "id": "hvkrMEa2oP-T"
      },
      "outputs": [],
      "source": [
        "from cloudant.client import  Cloudant"
      ]
    },
    {
      "cell_type": "code",
      "source": [
        "pip install cloudant"
      ],
      "metadata": {
        "colab": {
          "base_uri": "https://localhost:8080/"
        },
        "id": "IHKHUYdboVvM",
        "outputId": "3ad48d99-f151-4fef-cac6-4113edc0047b"
      },
      "execution_count": 1,
      "outputs": [
        {
          "output_type": "stream",
          "name": "stdout",
          "text": [
            "Looking in indexes: https://pypi.org/simple, https://us-python.pkg.dev/colab-wheels/public/simple/\n",
            "Collecting cloudant\n",
            "  Downloading cloudant-2.15.0-py3-none-any.whl (80 kB)\n",
            "\u001b[K     |████████████████████████████████| 80 kB 6.4 MB/s \n",
            "\u001b[?25hRequirement already satisfied: requests<3.0.0,>=2.7.0 in /usr/local/lib/python3.7/dist-packages (from cloudant) (2.23.0)\n",
            "Requirement already satisfied: certifi>=2017.4.17 in /usr/local/lib/python3.7/dist-packages (from requests<3.0.0,>=2.7.0->cloudant) (2022.9.24)\n",
            "Requirement already satisfied: chardet<4,>=3.0.2 in /usr/local/lib/python3.7/dist-packages (from requests<3.0.0,>=2.7.0->cloudant) (3.0.4)\n",
            "Requirement already satisfied: urllib3!=1.25.0,!=1.25.1,<1.26,>=1.21.1 in /usr/local/lib/python3.7/dist-packages (from requests<3.0.0,>=2.7.0->cloudant) (1.24.3)\n",
            "Requirement already satisfied: idna<3,>=2.5 in /usr/local/lib/python3.7/dist-packages (from requests<3.0.0,>=2.7.0->cloudant) (2.10)\n",
            "Installing collected packages: cloudant\n",
            "Successfully installed cloudant-2.15.0\n"
          ]
        }
      ]
    },
    {
      "cell_type": "code",
      "source": [
        "client=Cloudant.iam('username','apikey',connect=True)"
      ],
      "metadata": {
        "id": "7BvKmUljpBbO"
      },
      "execution_count": null,
      "outputs": []
    },
    {
      "cell_type": "code",
      "source": [
        "my_database=client.create_database('my_database')"
      ],
      "metadata": {
        "id": "99oP2WSnpFLu"
      },
      "execution_count": null,
      "outputs": []
    }
  ]
}