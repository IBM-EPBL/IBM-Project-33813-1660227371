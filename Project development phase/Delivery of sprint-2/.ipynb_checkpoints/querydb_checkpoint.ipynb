{
  "nbformat": 4,
  "nbformat_minor": 0,
  "metadata": {
    "colab": {
      "provenance": [],
      "collapsed_sections": []
    },
    "kernelspec": {
      "name": "python3",
      "display_name": "Python 3"
    },
    "language_info": {
      "name": "python"
    }
  },
  "cells": [
    {
      "cell_type": "code",
      "execution_count": null,
      "metadata": {
        "id": "iuR9efVpppZ0"
      },
      "outputs": [],
      "source": [
        "from cloudant.client import  Cloudant"
      ]
    },
    {
      "cell_type": "code",
      "source": [
        "client=Cloudant.iam('username','apikey',connect=True)"
      ],
      "metadata": {
        "id": "HN6I39fPpu7y"
      },
      "execution_count": null,
      "outputs": []
    },
    {
      "cell_type": "code",
      "source": [
        "my_database=client.create_database('my_database_query')"
      ],
      "metadata": {
        "id": "N-b5Ye2XpyLE"
      },
      "execution_count": null,
      "outputs": []
    }
  ]
}