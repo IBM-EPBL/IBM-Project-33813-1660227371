{
  "nbformat": 4,
  "nbformat_minor": 0,
  "metadata": {
    "colab": {
      "provenance": [],
      "collapsed_sections": []
    },
    "kernelspec": {
      "name": "python3",
      "display_name": "Python 3"
    },
    "language_info": {
      "name": "python"
    }
  },
  "cells": [
    {
      "cell_type": "code",
      "execution_count": null,
      "metadata": {
        "id": "_BbC2QHFF_Yo"
      },
      "outputs": [],
      "source": [
        "from cloudant.client import  Cloudant"
      ]
    },
    {
      "cell_type": "code",
      "source": [
        "pip install cloudant"
      ],
      "metadata": {
        "id": "wC_3EgEGGH2S"
      },
      "execution_count": null,
      "outputs": []
    },
    {
      "cell_type": "code",
      "source": [
        "client=Cloudant.iam('username','apikey',connect=True)"
      ],
      "metadata": {
        "id": "Gyrgc56OGPKu"
      },
      "execution_count": null,
      "outputs": []
    },
    {
      "cell_type": "code",
      "source": [
        "my_database=client.create_database('my_database')"
      ],
      "metadata": {
        "id": "5fRceMb-GTEk"
      },
      "execution_count": null,
      "outputs": []
    }
  ]
}